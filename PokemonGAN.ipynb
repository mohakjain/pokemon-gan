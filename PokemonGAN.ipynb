{
  "nbformat": 4,
  "nbformat_minor": 0,
  "metadata": {
    "colab": {
      "provenance": [],
      "gpuType": "T4"
    },
    "kernelspec": {
      "name": "python3",
      "display_name": "Python 3"
    },
    "language_info": {
      "name": "python"
    },
    "accelerator": "GPU"
  },
  "cells": [
    {
      "cell_type": "markdown",
      "source": [
        "Pokémon GAN\n",
        "\n",
        "By Mohak Jain"
      ],
      "metadata": {
        "id": "ksmmGxGdnZUX"
      }
    },
    {
      "cell_type": "code",
      "source": [
        "import torch\n",
        "import os\n",
        "from torchvision import datasets, transforms\n",
        "from torch.utils.data import DataLoader\n",
        "import argparse\n",
        "import os\n",
        "import random\n",
        "import torch.nn as nn\n",
        "import torch.nn.parallel\n",
        "import torch.optim as optim\n",
        "import torchvision.utils as vutils\n",
        "import numpy as np\n",
        "import matplotlib.pyplot as plt\n",
        "import matplotlib.animation as animation\n",
        "from IPython.display import HTML\n",
        "from PIL import Image,ImageOps,ImageFilter\n",
        "import cv2\n",
        "\n",
        "from google.colab import drive\n",
        "drive.mount('/content/drive')\n",
        "data_path = '/content/drive/MyDrive/Colab Notebooks/data/'\n"
      ],
      "metadata": {
        "id": "1u4dc-_IntPy",
        "colab": {
          "base_uri": "https://localhost:8080/"
        },
        "outputId": "bb8c22c2-df73-4ffb-f542-413ca9bd405a"
      },
      "execution_count": 2,
      "outputs": [
        {
          "output_type": "stream",
          "name": "stdout",
          "text": [
            "Mounted at /content/drive\n"
          ]
        }
      ]
    },
    {
      "cell_type": "markdown",
      "source": [
        "# Hyperparams"
      ],
      "metadata": {
        "id": "hUppKGMMKBUl"
      }
    },
    {
      "cell_type": "code",
      "source": [
        "# https://pytorch.org/tutorials/beginner/dcgan_faces_tutorial.html\n",
        "# Number of workers for dataloader\n",
        "workers = 2\n",
        "# Batch size during training\n",
        "batch_size = 64*3\n",
        "# Spatial size of training images. All images will be resized to this\n",
        "#   size using a transformer.\n",
        "image_size = 64\n",
        "# Number of channels in the training images.\n",
        "nc = 5\n",
        "# Size of z latent vector (i.e. size of generator input)\n",
        "nz = 100\n",
        "# Size of feature maps in generator\n",
        "ngf = 128\n",
        "# Size of feature maps in discriminator\n",
        "ndf = 64\n",
        "# Number of training epochs\n",
        "num_epochs = 2000\n",
        "\n",
        "\n",
        "prefix = 'apr4a_'\n",
        "\n",
        "# Learning rate for optimizers\n",
        "lr = 0.005\n",
        "gammaD = 0.5\n",
        "gammaG = 1\n",
        "stepsize = 100\n",
        "dropout = 0.45\n",
        "useLabelSmoothing = 0.025\n",
        "\n",
        "# Beta1 hyperparameter for Adam optimizers\n",
        "beta1 = 0.5\n",
        "# Number of GPUs available. Use 0 for CPU mode.\n",
        "ngpu = 1\n",
        "\n",
        "device = torch.device(\"cuda:0\" if (torch.cuda.is_available() and ngpu > 0) else \"cpu\")\n",
        "\n",
        "loadCheckpoint = !False\n",
        "checkpointToLoad = '1000'\n"
      ],
      "metadata": {
        "id": "o-w7h7cUBhnU"
      },
      "execution_count": 3,
      "outputs": []
    },
    {
      "cell_type": "markdown",
      "source": [
        "# Setup"
      ],
      "metadata": {
        "id": "ob29C0FwKMXr"
      }
    },
    {
      "cell_type": "code",
      "source": [
        "\n",
        "def edge_detection(image):\n",
        "    # Convert PIL image to a numpy array\n",
        "    numpy_image = np.array(image.convert('L'))  # Convert to grayscale\n",
        "    # Perform Canny edge detection\n",
        "    edges = cv2.Canny(numpy_image, threshold1=100, threshold2=200)\n",
        "    # Dilate the edges to make them more pronounced\n",
        "    kernel = np.ones((3, 3), np.uint8)\n",
        "    edges_dilated = cv2.dilate(edges, kernel, iterations=1)\n",
        "\n",
        "    return edges_dilated\n",
        "\n",
        "\n",
        "class AddEdgesTransform(object):\n",
        "    def __call__(self, img):\n",
        "        # Ensure img is in RGBA\n",
        "        img_rgba = img.convert('RGBA')\n",
        "        # Apply edge detection, make sure edges is in 'L' mode for blending\n",
        "        edges = edge_detection(img_rgba).convert('L')\n",
        "        # Create a new RGBA image from edges for blending\n",
        "        edges_rgba = Image.merge('RGBA', (edges, edges, edges, img_rgba.split()[3]))  # Use original alpha\n",
        "        # Blend the original image with the edges image\n",
        "        combined = Image.blend(img_rgba, edges_rgba, alpha=0.5)\n",
        "        return combined\n",
        "\n",
        "\n",
        "def pil_loader_rgba(path: str) -> torch.Tensor:\n",
        "    with open(path, 'rb') as f:\n",
        "        img = Image.open(f).convert('RGBA')\n",
        "        # Perform edge detection and get the edges as a numpy array\n",
        "        edges = edge_detection(img)\n",
        "        # Stack the RGBA channels and edge channel\n",
        "        img_np = np.array(img)\n",
        "        img_with_edges_np = np.concatenate((img_np, edges[:, :, None]), axis=2)\n",
        "        # Convert to PyTorch tensor\n",
        "        img_with_edges_tensor = torch.tensor(img_with_edges_np.transpose((2, 0, 1)), dtype=torch.float32) / 255.0  # Normalize to [0, 1]\n",
        "        return img_with_edges_tensor\n",
        "\n",
        "image_transforms = transforms.Compose([\n",
        "    transforms.Resize((image_size, image_size)),\n",
        "    transforms.Normalize((0.5, 0.5, 0.5, 0.5, 0.5), (0.5, 0.5,0.5, 0.5, 0.5))])\n",
        "\n",
        "\n",
        "dataset = datasets.DatasetFolder(root=data_path, loader=pil_loader_rgba, extensions=['png'], transform=image_transforms)\n",
        "dataloader = DataLoader(dataset, batch_size=batch_size, shuffle=True)\n"
      ],
      "metadata": {
        "id": "OkAYRL4g0TI3"
      },
      "execution_count": 4,
      "outputs": []
    },
    {
      "cell_type": "code",
      "source": [
        "def show_images(image_batch):\n",
        "    plt.figure(figsize=(8, 8))\n",
        "    for i, img in enumerate(image_batch):\n",
        "        ax = plt.subplot(4, 4, i + 1)\n",
        "        img = img.detach().cpu().numpy()\n",
        "        img = img.transpose(1, 2, 0)  # Convert to HWC format for visualization\n",
        "\n",
        "        rgb = img[:, :, :3]\n",
        "\n",
        "        # Extract the edge channel and normalize\n",
        "        edges = img[:, :, 4]  # Assumi  ng the 5th channel is edges\n",
        "        edges = (edges + 1) / 2  # Normalize if necessary\n",
        "\n",
        "        # Create an edge overlay by repeating the edge channel 3 times to make it RGB\n",
        "        edges_rgb = np.repeat(edges[:, :, np.newaxis], 3, axis=2)\n",
        "\n",
        "        # Overlay edges on the RGB image\n",
        "        # Here, we're simply adding the edge information, you might want to adjust how you combine these\n",
        "        overlayed = np.clip(rgb + edges_rgb, 0, 1)  # Ensure the combined image is within valid range\n",
        "\n",
        "        plt.imshow(overlayed)\n",
        "        plt.axis('off')\n",
        "    plt.show()\n",
        "\n",
        "# Fetch a batch of images\n",
        "images, _ = next(iter(dataloader))\n",
        "if not loadCheckpoint:\n",
        "  show_images(images[:16])  # Show first 16 images\n"
      ],
      "metadata": {
        "id": "oDi1FwI23MsI"
      },
      "execution_count": 5,
      "outputs": []
    },
    {
      "cell_type": "code",
      "source": [
        "import torch.nn as nn\n",
        "# custom weights initialization called on ``netG`` and ``netD``\n",
        "def weights_init(m):\n",
        "    classname = m.__class__.__name__\n",
        "    if classname.find('Conv') != -1:\n",
        "        nn.init.normal_(m.weight.data, 0.0, 0.02)\n",
        "    elif classname.find('BatchNorm') != -1:\n",
        "        nn.init.normal_(m.weight.data, 1.0, 0.02)\n",
        "        nn.init.constant_(m.bias.data, 0)"
      ],
      "metadata": {
        "id": "37RK0JWACKZa"
      },
      "execution_count": 6,
      "outputs": []
    },
    {
      "cell_type": "markdown",
      "source": [
        "# Nets"
      ],
      "metadata": {
        "id": "a-hAvJ6dKGUH"
      }
    },
    {
      "cell_type": "code",
      "source": [
        "class Generator(nn.Module):\n",
        "    def __init__(self, ngpu):\n",
        "        super(Generator, self).__init__()\n",
        "        self.ngpu = ngpu\n",
        "        self.main = nn.Sequential(\n",
        "            # input is Z, going into a convolution\n",
        "            nn.ConvTranspose2d( nz, ngf * 8, 4, 1, 0, bias=False),\n",
        "            nn.BatchNorm2d(ngf * 8),\n",
        "            nn.ReLU(True),\n",
        "            # state size. ``(ngf*8) x 4 x 4``\n",
        "            nn.ConvTranspose2d(ngf * 8, ngf * 4, 4, 2, 1, bias=False),\n",
        "            nn.BatchNorm2d(ngf * 4),\n",
        "            nn.ReLU(True),\n",
        "            # state size. ``(ngf*4) x 8 x 8``\n",
        "            nn.ConvTranspose2d( ngf * 4, ngf * 2, 4, 2, 1, bias=False),\n",
        "            nn.BatchNorm2d(ngf * 2),\n",
        "            nn.ReLU(True),\n",
        "            # state size. ``(ngf*2) x 16 x 16``\n",
        "            nn.ConvTranspose2d( ngf * 2, ngf, 4, 2, 1, bias=False),\n",
        "            nn.BatchNorm2d(ngf),\n",
        "            nn.ReLU(True),\n",
        "            # state size. ``(ngf) x 32 x 32``\n",
        "            nn.ConvTranspose2d( ngf, nc, 4, 2, 1, bias=False),\n",
        "            nn.Tanh()\n",
        "            # state size. ``(nc) x 64 x 64``\n",
        "        )\n",
        "\n",
        "    def forward(self, input):\n",
        "        return self.main(input)\n",
        "\n",
        "class Discriminator(nn.Module):\n",
        "    def __init__(self, ngpu):\n",
        "        super(Discriminator, self).__init__()\n",
        "        self.ngpu = ngpu\n",
        "        self.main = nn.Sequential(\n",
        "            # input is ``(nc) x 64 x 64``\n",
        "            nn.Conv2d(nc, ndf, 4, 2, 1, bias=False),\n",
        "            nn.LeakyReLU(0.2, inplace=True),\n",
        "            # state size. ``(ndf) x 32 x 32``\n",
        "            nn.Conv2d(ndf, ndf * 2, 4, 2, 1, bias=False),\n",
        "            nn.BatchNorm2d(ndf * 2),\n",
        "            nn.LeakyReLU(0.2, inplace=True),\n",
        "            # state size. ``(ndf*2) x 16 x 16``\n",
        "            nn.Conv2d(ndf * 2, ndf * 4, 4, 2, 1, bias=False),\n",
        "            nn.BatchNorm2d(ndf * 4),\n",
        "            nn.LeakyReLU(0.2, inplace=True),\n",
        "            # state size. ``(ndf*4) x 8 x 8``\n",
        "            nn.Conv2d(ndf * 4, ndf * 8, 4, 2, 1, bias=False),\n",
        "            nn.BatchNorm2d(ndf * 8),\n",
        "            nn.LeakyReLU(0.2, inplace=True),\n",
        "            # state size. ``(ndf*8) x 4 x 4``\n",
        "            nn.Dropout(dropout),\n",
        "            nn.Conv2d(ndf * 8, 1, 4, 1, 0, bias=False),\n",
        "            nn.AdaptiveAvgPool2d(1),\n",
        "            nn.Sigmoid()\n",
        "        )\n",
        "\n",
        "    def forward(self, input):\n",
        "        return self.main(input)"
      ],
      "metadata": {
        "id": "dMYY9XBk3NpK"
      },
      "execution_count": 7,
      "outputs": []
    },
    {
      "cell_type": "code",
      "source": [
        "# Create the generator\n",
        "netG = Generator(ngpu).to(device)\n",
        "\n",
        "# Handle multi-GPU if desired\n",
        "if (device.type == 'cuda') and (ngpu > 1):\n",
        "    netG = nn.DataParallel(netG, list(range(ngpu)))\n",
        "\n",
        "# Apply the ``weights_init`` function to randomly initialize all weights\n",
        "#  to ``mean=0``, ``stdev=0.02``.\n",
        "netG.apply(weights_init)\n",
        "\n",
        "# # Print the model\n",
        "print(netG)\n",
        "\n",
        "# Create the Discriminator\n",
        "netD = Discriminator(ngpu).to(device)\n",
        "\n",
        "# Handle multi-GPU if desired\n",
        "if (device.type == 'cuda') and (ngpu > 1):\n",
        "    netD = nn.DataParallel(netD, list(range(ngpu)))\n",
        "\n",
        "# Apply the ``weights_init`` function to randomly initialize all weights\n",
        "# like this: ``to mean=0, stdev=0.2``.\n",
        "netD.apply(weights_init)\n",
        "\n",
        "# # Print the model\n",
        "print(netD)"
      ],
      "metadata": {
        "id": "kO_TF8N-B_i5",
        "colab": {
          "base_uri": "https://localhost:8080/"
        },
        "outputId": "a24673f1-6a3b-4aaa-8fff-4bb1fb888aba"
      },
      "execution_count": 8,
      "outputs": [
        {
          "output_type": "stream",
          "name": "stdout",
          "text": [
            "Generator(\n",
            "  (main): Sequential(\n",
            "    (0): ConvTranspose2d(100, 1024, kernel_size=(4, 4), stride=(1, 1), bias=False)\n",
            "    (1): BatchNorm2d(1024, eps=1e-05, momentum=0.1, affine=True, track_running_stats=True)\n",
            "    (2): ReLU(inplace=True)\n",
            "    (3): ConvTranspose2d(1024, 512, kernel_size=(4, 4), stride=(2, 2), padding=(1, 1), bias=False)\n",
            "    (4): BatchNorm2d(512, eps=1e-05, momentum=0.1, affine=True, track_running_stats=True)\n",
            "    (5): ReLU(inplace=True)\n",
            "    (6): ConvTranspose2d(512, 256, kernel_size=(4, 4), stride=(2, 2), padding=(1, 1), bias=False)\n",
            "    (7): BatchNorm2d(256, eps=1e-05, momentum=0.1, affine=True, track_running_stats=True)\n",
            "    (8): ReLU(inplace=True)\n",
            "    (9): ConvTranspose2d(256, 128, kernel_size=(4, 4), stride=(2, 2), padding=(1, 1), bias=False)\n",
            "    (10): BatchNorm2d(128, eps=1e-05, momentum=0.1, affine=True, track_running_stats=True)\n",
            "    (11): ReLU(inplace=True)\n",
            "    (12): ConvTranspose2d(128, 5, kernel_size=(4, 4), stride=(2, 2), padding=(1, 1), bias=False)\n",
            "    (13): Tanh()\n",
            "  )\n",
            ")\n",
            "Discriminator(\n",
            "  (main): Sequential(\n",
            "    (0): Conv2d(5, 64, kernel_size=(4, 4), stride=(2, 2), padding=(1, 1), bias=False)\n",
            "    (1): LeakyReLU(negative_slope=0.2, inplace=True)\n",
            "    (2): Conv2d(64, 128, kernel_size=(4, 4), stride=(2, 2), padding=(1, 1), bias=False)\n",
            "    (3): BatchNorm2d(128, eps=1e-05, momentum=0.1, affine=True, track_running_stats=True)\n",
            "    (4): LeakyReLU(negative_slope=0.2, inplace=True)\n",
            "    (5): Conv2d(128, 256, kernel_size=(4, 4), stride=(2, 2), padding=(1, 1), bias=False)\n",
            "    (6): BatchNorm2d(256, eps=1e-05, momentum=0.1, affine=True, track_running_stats=True)\n",
            "    (7): LeakyReLU(negative_slope=0.2, inplace=True)\n",
            "    (8): Conv2d(256, 512, kernel_size=(4, 4), stride=(2, 2), padding=(1, 1), bias=False)\n",
            "    (9): BatchNorm2d(512, eps=1e-05, momentum=0.1, affine=True, track_running_stats=True)\n",
            "    (10): LeakyReLU(negative_slope=0.2, inplace=True)\n",
            "    (11): Dropout(p=0.45, inplace=False)\n",
            "    (12): Conv2d(512, 1, kernel_size=(4, 4), stride=(1, 1), bias=False)\n",
            "    (13): AdaptiveAvgPool2d(output_size=1)\n",
            "    (14): Sigmoid()\n",
            "  )\n",
            ")\n"
          ]
        }
      ]
    },
    {
      "cell_type": "code",
      "source": [
        "# Initialize the ``BCELoss`` function\n",
        "criterion = nn.BCELoss()\n",
        "\n",
        "# Create batch of latent vectors that we will use to visualize\n",
        "#  the progression of the generator\n",
        "fixed_noise = torch.randn(64, nz, 1, 1, device=device)\n",
        "\n",
        "# Establish convention for real and fake labels during training\n",
        "real_label = 1.\n",
        "fake_label = 0.\n",
        "\n",
        "if useLabelSmoothing:\n",
        "  real_label -= useLabelSmoothing\n",
        "  fake_label += useLabelSmoothing\n",
        "\n",
        "# Setup Adam optimizers for both G and D\n",
        "optimizerD = optim.Adam(netD.parameters(), lr=lr, betas=(beta1, 0.999))\n",
        "optimizerG = optim.Adam(netG.parameters(), lr=lr, betas=(beta1, 0.999))\n",
        "\n",
        "from torch.optim.lr_scheduler import StepLR\n",
        "# Setup StepLR learning rate schedulers for both G and D\n",
        "schedulerD = StepLR(optimizerD, step_size=stepsize, gamma=gammaD)\n",
        "schedulerG = StepLR(optimizerG, step_size=stepsize, gamma=gammaG)\n"
      ],
      "metadata": {
        "id": "ek_dpKQlChC_"
      },
      "execution_count": 9,
      "outputs": []
    },
    {
      "cell_type": "code",
      "source": [
        "# Define the path where checkpoints are stored\n",
        "checkpoint_path = '/content/drive/MyDrive/Colab Notebooks/checkpoints/'\n",
        "if checkpointToLoad == 'latest':\n",
        "  checkpoint_file = os.path.join(checkpoint_path, 'latest_checkpoint.pth')\n",
        "  print(checkpoint_file)\n",
        "else:\n",
        "  checkpoint_file = os.path.join(checkpoint_path, prefix + 'checkpoint_epoch_' + checkpointToLoad + '.pth')\n",
        "\n",
        "\n",
        "# Function to load the checkpoint\n",
        "def load_checkpoint(checkpoint_file, modelG, modelD, optimizerG, optimizerD):\n",
        "    # Check if file exists\n",
        "    if os.path.isfile(checkpoint_file):\n",
        "        print(f\"Loading checkpoint '{checkpoint_file}'\")\n",
        "        checkpoint = torch.load(checkpoint_file)\n",
        "        start_epoch = checkpoint['epoch'] + 1\n",
        "        modelG.load_state_dict(checkpoint['generator_state_dict'])\n",
        "        modelD.load_state_dict(checkpoint['discriminator_state_dict'])\n",
        "        optimizerG.load_state_dict(checkpoint['optimizerG_state_dict'])\n",
        "        optimizerD.load_state_dict(checkpoint['optimizerD_state_dict'])\n",
        "        schedulerG.load_state_dict(checkpoint['schedulerG_state_dict'])\n",
        "        schedulerD.load_state_dict(checkpoint['schedulerD_state_dict'])\n",
        "        G_losses = checkpoint.get('G_losses', [])\n",
        "        D_losses = checkpoint.get('D_losses', [])\n",
        "\n",
        "        print(f\"Loaded checkpoint '{checkpoint_file}' (epoch {checkpoint['epoch']})\")\n",
        "    else:\n",
        "        start_epoch = 0\n",
        "        print(\"No checkpoint found, starting training from scratch.\")\n",
        "    return start_epoch, G_losses, D_losses\n",
        "\n",
        "start_epoch = 0\n",
        "D_losses = []\n",
        "G_losses = []\n",
        "\n",
        "if loadCheckpoint:\n",
        "  start_epoch, G_losses, D_losses = load_checkpoint(checkpoint_file, netG, netD, optimizerG, optimizerD)\n"
      ],
      "metadata": {
        "id": "0-Eg8oaVudia",
        "colab": {
          "base_uri": "https://localhost:8080/",
          "height": 315
        },
        "outputId": "67e71599-8d73-47da-bac9-ab43b073d59b"
      },
      "execution_count": 11,
      "outputs": [
        {
          "output_type": "stream",
          "name": "stdout",
          "text": [
            "No checkpoint found, starting training from scratch.\n"
          ]
        },
        {
          "output_type": "error",
          "ename": "UnboundLocalError",
          "evalue": "local variable 'G_losses' referenced before assignment",
          "traceback": [
            "\u001b[0;31m---------------------------------------------------------------------------\u001b[0m",
            "\u001b[0;31mUnboundLocalError\u001b[0m                         Traceback (most recent call last)",
            "\u001b[0;32m<ipython-input-11-bdf215590dd3>\u001b[0m in \u001b[0;36m<cell line: 36>\u001b[0;34m()\u001b[0m\n\u001b[1;32m     35\u001b[0m \u001b[0;34m\u001b[0m\u001b[0m\n\u001b[1;32m     36\u001b[0m \u001b[0;32mif\u001b[0m \u001b[0mloadCheckpoint\u001b[0m\u001b[0;34m:\u001b[0m\u001b[0;34m\u001b[0m\u001b[0;34m\u001b[0m\u001b[0m\n\u001b[0;32m---> 37\u001b[0;31m   \u001b[0mstart_epoch\u001b[0m\u001b[0;34m,\u001b[0m \u001b[0mG_losses\u001b[0m\u001b[0;34m,\u001b[0m \u001b[0mD_losses\u001b[0m \u001b[0;34m=\u001b[0m \u001b[0mload_checkpoint\u001b[0m\u001b[0;34m(\u001b[0m\u001b[0mcheckpoint_file\u001b[0m\u001b[0;34m,\u001b[0m \u001b[0mnetG\u001b[0m\u001b[0;34m,\u001b[0m \u001b[0mnetD\u001b[0m\u001b[0;34m,\u001b[0m \u001b[0moptimizerG\u001b[0m\u001b[0;34m,\u001b[0m \u001b[0moptimizerD\u001b[0m\u001b[0;34m)\u001b[0m\u001b[0;34m\u001b[0m\u001b[0;34m\u001b[0m\u001b[0m\n\u001b[0m",
            "\u001b[0;32m<ipython-input-11-bdf215590dd3>\u001b[0m in \u001b[0;36mload_checkpoint\u001b[0;34m(checkpoint_file, modelG, modelD, optimizerG, optimizerD)\u001b[0m\n\u001b[1;32m     28\u001b[0m         \u001b[0mstart_epoch\u001b[0m \u001b[0;34m=\u001b[0m \u001b[0;36m0\u001b[0m\u001b[0;34m\u001b[0m\u001b[0;34m\u001b[0m\u001b[0m\n\u001b[1;32m     29\u001b[0m         \u001b[0mprint\u001b[0m\u001b[0;34m(\u001b[0m\u001b[0;34m\"No checkpoint found, starting training from scratch.\"\u001b[0m\u001b[0;34m)\u001b[0m\u001b[0;34m\u001b[0m\u001b[0;34m\u001b[0m\u001b[0m\n\u001b[0;32m---> 30\u001b[0;31m     \u001b[0;32mreturn\u001b[0m \u001b[0mstart_epoch\u001b[0m\u001b[0;34m,\u001b[0m \u001b[0mG_losses\u001b[0m\u001b[0;34m,\u001b[0m \u001b[0mD_losses\u001b[0m\u001b[0;34m\u001b[0m\u001b[0;34m\u001b[0m\u001b[0m\n\u001b[0m\u001b[1;32m     31\u001b[0m \u001b[0;34m\u001b[0m\u001b[0m\n\u001b[1;32m     32\u001b[0m \u001b[0mstart_epoch\u001b[0m \u001b[0;34m=\u001b[0m \u001b[0;36m0\u001b[0m\u001b[0;34m\u001b[0m\u001b[0;34m\u001b[0m\u001b[0m\n",
            "\u001b[0;31mUnboundLocalError\u001b[0m: local variable 'G_losses' referenced before assignment"
          ]
        }
      ]
    },
    {
      "cell_type": "markdown",
      "source": [
        "# Training Loop"
      ],
      "metadata": {
        "id": "SUO3sGELJ7PE"
      }
    },
    {
      "cell_type": "code",
      "source": [
        "img_list = []\n",
        "iters = 0\n",
        "\n",
        "print(\"Starting Training Loop...\")\n",
        "\n",
        "for epoch in range(start_epoch,num_epochs):\n",
        "    for i, data in enumerate(dataloader, 0):\n",
        "\n",
        "        ############################\n",
        "        # (1) Update D network: maximize log(D(x)) + log(1 - D(G(z)))\n",
        "        ###########################\n",
        "        ## Train with all-real batch\n",
        "        netD.zero_grad()\n",
        "        # Format batch\n",
        "        real_cpu = data[0].to(device)\n",
        "        b_size = real_cpu.size(0)\n",
        "        label = torch.full((b_size,), real_label, dtype=torch.float, device=device)\n",
        "        # Forward pass real batch through D\n",
        "        output = netD(real_cpu).view(-1)\n",
        "        # Calculate loss on all-real batch\n",
        "        errD_real = criterion(output, label)\n",
        "        # Calculate gradients for D in backward pass\n",
        "        errD_real.backward()\n",
        "        D_x = output.mean().item()\n",
        "\n",
        "        ## Train with all-fake batch\n",
        "        # Generate batch of latent vectors\n",
        "        noise = torch.randn(b_size, nz, 1, 1, device=device)\n",
        "        # Generate fake image batch with G\n",
        "        fake = netG(noise)\n",
        "        label.fill_(fake_label)\n",
        "        # Classify all fake batch with D\n",
        "        output = netD(fake.detach()).view(-1)\n",
        "        # Calculate D's loss on the all-fake batch\n",
        "        errD_fake = criterion(output, label)\n",
        "        # Calculate the gradients for this batch, accumulated (summed) with previous gradients\n",
        "        errD_fake.backward()\n",
        "        D_G_z1 = output.mean().item()\n",
        "        # Compute error of D as sum over the fake and the real batches\n",
        "        errD = errD_real + errD_fake\n",
        "        # Update D\n",
        "        optimizerD.step()\n",
        "\n",
        "        ############################\n",
        "        # (2) Update G network: maximize log(D(G(z)))\n",
        "        ###########################\n",
        "        netG.zero_grad()\n",
        "        label.fill_(real_label)  # fake labels are real for generator cost\n",
        "        # Since we just updated D, perform another forward pass of all-fake batch through D\n",
        "        output = netD(fake).view(-1)\n",
        "        # Calculate G's loss based on this output\n",
        "        errG = criterion(output, label)\n",
        "        # Calculate gradients for G\n",
        "        errG.backward()\n",
        "        D_G_z2 = output.mean().item()\n",
        "        # Update G\n",
        "        optimizerG.step()\n",
        "\n",
        "        # Output training stats\n",
        "        if i % 100 == 0:\n",
        "            print('[%d/%d][%d/%d]\\tLoss_D: %.4f\\tLoss_G: %.4f\\tD(x): %.4f\\tD(G(z)): %.4f / %.4f'\n",
        "                  % (epoch, num_epochs, i, len(dataloader),\n",
        "                     errD.item(), errG.item(), D_x, D_G_z1, D_G_z2))\n",
        "\n",
        "        # Save Losses for plotting later\n",
        "        G_losses.append(errG.item())\n",
        "        D_losses.append(errD.item())\n",
        "\n",
        "        if len(D_losses) > 5 and all(loss > 0.99 for loss in D_losses[-5:]):\n",
        "          break\n",
        "\n",
        "        # Check how the generator is doing by saving G's output on fixed_noise\n",
        "        if (iters % 500 == 0) or ((epoch == num_epochs-1) and (i == len(dataloader)-1)):\n",
        "            with torch.no_grad():\n",
        "                fake = netG(fixed_noise).detach().cpu()\n",
        "            img_list.append(vutils.make_grid(fake, padding=2, normalize=True))\n",
        "\n",
        "        iters += 1\n",
        "\n",
        "    # Scheduled learning Rate\n",
        "    schedulerD.step()\n",
        "    schedulerG.step()\n",
        "\n",
        "    # Do checkpoints\n",
        "    checkpoint = {\n",
        "        'epoch': epoch,\n",
        "        'generator_state_dict': netG.state_dict(),\n",
        "        'discriminator_state_dict': netD.state_dict(),\n",
        "        'optimizerG_state_dict': optimizerG.state_dict(),\n",
        "        'optimizerD_state_dict': optimizerD.state_dict(),\n",
        "        'schedulerG_state_dict': schedulerG.state_dict(),\n",
        "        'schedulerD_state_dict': schedulerD.state_dict(),\n",
        "        'lossG': errG.item(),\n",
        "        'lossD': errD.item(),\n",
        "        'G_losses': G_losses,\n",
        "        'D_losses': D_losses,\n",
        "    }\n",
        "    torch.save(checkpoint, os.path.join(checkpoint_path, 'latest_checkpoint.pth'))\n",
        "\n",
        "    if epoch % 25 == 0:\n",
        "      torch.save(checkpoint, os.path.join(checkpoint_path, f'{prefix}checkpoint_epoch_{epoch}.pth'))\n",
        "\n"
      ],
      "metadata": {
        "id": "MmrHzIFEC0e7"
      },
      "execution_count": null,
      "outputs": []
    },
    {
      "cell_type": "code",
      "source": [
        "plt.figure(figsize=(10,5))\n",
        "plt.title(\"Generator and Discriminator Loss During Training\")\n",
        "plt.plot(G_losses,label=\"G\")\n",
        "plt.plot(D_losses,label=\"D\")\n",
        "plt.xlabel(\"iterations\")\n",
        "plt.ylabel(\"Loss\")\n",
        "plt.legend()\n",
        "plt.show()"
      ],
      "metadata": {
        "id": "Mx4t6EsKDx54"
      },
      "execution_count": null,
      "outputs": []
    },
    {
      "cell_type": "code",
      "source": [
        "# Grab a batch of real images from the dataloader\n",
        "real_batch = next(iter(dataloader))\n",
        "real_images = real_batch[0][:, :4, :, :]  # Select only RGBA channels, drop the edge channel\n",
        "\n",
        "# Plot the real images\n",
        "plt.figure(figsize=(15,15))\n",
        "plt.subplot(1,2,1)\n",
        "plt.axis(\"off\")\n",
        "plt.title(\"Real Images\")\n",
        "plt.imshow(np.transpose(vutils.make_grid(real_images.to(device)[:64], padding=5, normalize=True).cpu(), (1, 2, 0)))\n",
        "\n",
        "with torch.no_grad():\n",
        "    fake = netG(fixed_noise).detach().cpu()\n",
        "img_list.append(vutils.make_grid(fake, padding=2, normalize=True))\n",
        "\n",
        "\n",
        "fake_images = img_list[-1][:4,:,:]\n",
        "# Plot the fake images from the last epoch\n",
        "plt.subplot(1,2,2)\n",
        "plt.axis(\"off\")\n",
        "plt.title(\"Fake Images\")\n",
        "plt.imshow(np.transpose(fake_images,(1,2,0)))\n",
        "plt.show()"
      ],
      "metadata": {
        "id": "66OddC9XH7_s"
      },
      "execution_count": null,
      "outputs": []
    },
    {
      "cell_type": "code",
      "source": [
        "import matplotlib.animation as animation\n",
        "\n",
        "def create_progress_animation(img_list):\n",
        "  fig=plt.figure(figsize=(8,8))\n",
        "  plt.axis('off')\n",
        "  ims=[]\n",
        "  for img_tensor in img_list:\n",
        "    img_rgba = img_tensor[:4,:,:]\n",
        "    img = np.transpose(img_rgba, (1,2,0))\n",
        "    im = plt.imshow(img, animated=True)\n",
        "    ims.append([im])\n",
        "\n",
        "  ani = animation.ArtistAnimation(fig,ims,interval=500, repeat_delay=1000, blit = True)\n",
        "  ani.save('/content/drive/MyDrive/Colab Notebooks/'+prefix+\"training_progress.gif\", writer='imagemagick', dpi=72)\n",
        "  return ani\n",
        "\n",
        "ani = create_progress_animation(img_list)"
      ],
      "metadata": {
        "id": "U7poLdtE_HrM"
      },
      "execution_count": null,
      "outputs": []
    },
    {
      "cell_type": "code",
      "source": [],
      "metadata": {
        "id": "KHllZFxQ2T85"
      },
      "execution_count": null,
      "outputs": []
    }
  ]
}